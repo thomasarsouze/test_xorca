{
 "cells": [
  {
   "cell_type": "code",
   "execution_count": 1,
   "metadata": {},
   "outputs": [],
   "source": [
    "%matplotlib inline\n",
    "import warnings\n",
    "warnings.filterwarnings('ignore')\n",
    "from pathlib import Path\n",
    "from glob import glob\n",
    "import matplotlib.pyplot as plt\n",
    "import xarray as xr\n",
    "import numpy as np\n",
    "from xorca.lib import load_xorca_dataset\n",
    "# Personal modification to xorca\n",
    "from __param__ import *\n",
    "from tools_xorca import complete_dataset, plot_3D_averages\n",
    "from calculate_xorca import average_3D, average_3D_list"
   ]
  },
  {
   "cell_type": "code",
   "execution_count": 2,
   "metadata": {},
   "outputs": [],
   "source": [
    "#General definitions\n",
    "config = 'ORCA1L75'\n",
    "exp    = 'a13c'\n",
    "data_path     = Path(\"/esnas/exp/ecearth/a13c/original_files/19500101/fc0/outputs\")\n",
    "data_path_aux = Path(coordinates_path+config)\n",
    "\n",
    "#Data files\n",
    "data_files_u  = list(sorted(data_path.glob(exp+\"_1m_200[01]*grid_U.nc\")))\n",
    "data_files_v  = list(sorted(data_path.glob(exp+\"_1m_200[01]*grid_V.nc\")))\n",
    "data_files_t  = list(sorted(data_path.glob(exp+\"_1m_200[01]*grid_T.nc\")))\n",
    "data_files_sbc  = list(sorted(data_path.glob(exp+\"_1m_200[01]*SBC.nc\")))\n",
    "aux_files_m   = list(sorted(data_path_aux.glob(\"mesh*\")))\n",
    "aux_files_s   = list(sorted(data_path_aux.glob(\"subbasins.nc\")))\n",
    "aux_files_b   = list(sorted(data_path_aux.glob(\"basin_mask_ORCA1_ece3.2_2017.nc4\")))\n",
    "\n",
    "data_files    = data_files_u+data_files_v+data_files_t\n",
    "aux_files     = aux_files_m+aux_files_s+aux_files_b"
   ]
  },
  {
   "cell_type": "code",
   "execution_count": 3,
   "metadata": {},
   "outputs": [],
   "source": [
    "#Actualy load the data\n",
    "ds_xorca = load_xorca_dataset(data_files=data_files, aux_files=aux_files,\n",
    "                              decode_cf=True, \n",
    "                              input_ds_chunks=input_chunks_ORCA1L75,\n",
    "                              target_ds_chunks=target_chunks_ORCA1L75,\n",
    "                              update_orca_variables=update_orca_variables)"
   ]
  },
  {
   "cell_type": "code",
   "execution_count": 4,
   "metadata": {},
   "outputs": [],
   "source": [
    "#Add area and volume of the grid to the coordinates\n",
    "ds_xorca = complete_dataset(ds_xorca)"
   ]
  },
  {
   "cell_type": "code",
   "execution_count": 13,
   "metadata": {},
   "outputs": [],
   "source": [
    "def average_3D(ds,var,depths=[0]):\n",
    "    \"\"\"Calculate the volume weighted average of 'var' variable in ds\n",
    "    Parameters\n",
    "    ----------\n",
    "    ds : xarray dataset\n",
    "        A grid-aware dataset as produced by `xorca.lib.preprocess_orca`.\n",
    "    var : name of the variable to average. Has to be included in ds and be 3D (+ time)\n",
    "    depths : list of depths defining depth layers for averaging\n",
    "    Returns\n",
    "    -------\n",
    "    ave : xarray data array\n",
    "        A grid-aware data array with the averaged variable. \n",
    "        Time_series format \n",
    "    \"\"\"\n",
    "\n",
    "    if var in ds.variables.keys():\n",
    "        v = ds[var]\n",
    "        depths.append(10000) # do the calculation from last depth to the bottom\n",
    "        dims  = update_orca_variables[var]['dims'][-3:]\n",
    "        depth = [key for key in v.coords.keys() if key.startswith('depth')][0]\n",
    "        vol   = [key for key in v.coords.keys() if key.endswith('vol')][0]\n",
    "        arrays=[]; names_coord=[]\n",
    "        if len(depths)>2:\n",
    "            for depth1,depth2 in zip(depths,depths[1:]):\n",
    "                condition = ((-v[depth]>depth1) & (-v[depth]<depth2))\n",
    "                array = (v * v[vol] ).where(condition,drop=True).sum(dims) / (v[vol]).where(condition,drop=True).sum(dims)\n",
    "                array = array.compute()\n",
    "                arrays.append(array)\n",
    "                if depth2==10000:\n",
    "                    names_coord.append(str(depth1)+'-bottom')\n",
    "                else:\n",
    "                    names_coord.append(str(depth1)+'-'+str(depth2))\n",
    "        #add the computation for the whole column too\n",
    "        array = (v * v[vol] ).sum(dims) / (v[vol]).sum(dims)\n",
    "        arrays.append(array)\n",
    "        names_coord.append('0-bottom')\n",
    "        depths.pop()\n",
    "        ds_out = xr.concat(arrays,dim='depth_range')\n",
    "        ds_out.name = var\n",
    "        ds_out.coords['depth_range'] = names_coord\n",
    "    else:\n",
    "        print('Variable '+var+' is not in the dataset. Impossible to do average_3D. Please select another variable')\n",
    "\n",
    "    return ds_out"
   ]
  },
  {
   "cell_type": "code",
   "execution_count": 14,
   "metadata": {},
   "outputs": [],
   "source": [
    "def average_3D_list(ds_in,list_vars,depths=[0],outname='_3D_averages.nc'):\n",
    "    \"\"\"Calculate the volume weighted average for each var in list_vars, calling average_3D function\n",
    "    \"\"\"\n",
    "    masks = [key for key in ds_in.coords.keys() if key.startswith('tmask')]\n",
    "    averages = []\n",
    "    for mask in masks:\n",
    "        if mask != 'tmask':\n",
    "            ds = ds_in.where(ds_in[mask],drop=True)    \n",
    "        else:\n",
    "            ds = ds_in\n",
    "        for var in list_vars:\n",
    "            print(mask,var,depths)\n",
    "            ave = average_3D(ds,var,depths)\n",
    "            ave.name = var+'_'+mask\n",
    "            averages.append(ave)\n",
    "        \n",
    "    ds_out=[]\n",
    "    for (i,var) in enumerate(list_vars):\n",
    "        vars = [diag for diag in averages if diag.name.startswith(var)]\n",
    "        ds_out.append(xr.concat(vars,dim='basins').rename(var+\"_3D_ave\"))\n",
    "    ds_out = xr.merge(ds_out)\n",
    "    ds_out.coords['basins'] = masks\n",
    "    ds_out_yearly_rolling = ds_out.rolling(t=12, center=True).mean()\n",
    "    ds_out=xr.concat((ds_out,ds_out_yearly_rolling),dim='data_type')\n",
    "    ds_out.coords['data_type'] = ['monthly','yearly_rolling']\n",
    "    ds_out.to_netcdf(outname)\n",
    "\n",
    "    return ds_out"
   ]
  },
  {
   "cell_type": "code",
   "execution_count": 15,
   "metadata": {},
   "outputs": [
    {
     "data": {
      "text/plain": [
       "[0, 100]"
      ]
     },
     "execution_count": 15,
     "metadata": {},
     "output_type": "execute_result"
    }
   ],
   "source": [
    "list_vars=['thetao','so']\n",
    "depths=[0,100]\n",
    "depths"
   ]
  },
  {
   "cell_type": "code",
   "execution_count": 16,
   "metadata": {},
   "outputs": [
    {
     "name": "stdout",
     "output_type": "stream",
     "text": [
      "tmask thetao [0, 100]\n",
      "tmask so [0, 100]\n",
      "tmaskatl thetao [0, 100]\n",
      "tmaskatl so [0, 100]\n",
      "tmaskind thetao [0, 100]\n",
      "tmaskind so [0, 100]\n",
      "tmaskpac thetao [0, 100]\n",
      "tmaskpac so [0, 100]\n",
      "tmaskgin thetao [0, 100]\n",
      "tmaskgin so [0, 100]\n",
      "tmasknna thetao [0, 100]\n",
      "tmasknna so [0, 100]\n",
      "tmaskmed thetao [0, 100]\n",
      "tmaskmed so [0, 100]\n",
      "tmasklab thetao [0, 100]\n",
      "tmasklab so [0, 100]\n",
      "tmaskwed thetao [0, 100]\n",
      "tmaskwed so [0, 100]\n",
      "tmaskarc thetao [0, 100]\n",
      "tmaskarc so [0, 100]\n",
      "tmasksoc thetao [0, 100]\n",
      "tmasksoc so [0, 100]\n",
      "tmaskindpac thetao [0, 100]\n",
      "tmaskindpac so [0, 100]\n"
     ]
    },
    {
     "data": {
      "text/plain": [
       "<xarray.Dataset>\n",
       "Dimensions:        (basins: 12, data_type: 2, depth_range: 3, t: 24)\n",
       "Coordinates:\n",
       "  * t              (t) datetime64[ns] 2000-01-16T12:00:00 ...\n",
       "  * depth_range    (depth_range) <U10 '0-100' '100-bottom' '0-bottom'\n",
       "  * basins         (basins) <U11 'tmask' 'tmaskatl' 'tmaskind' 'tmaskpac' ...\n",
       "  * data_type      (data_type) <U14 'monthly' 'yearly_rolling'\n",
       "Data variables:\n",
       "    thetao_3D_ave  (data_type, basins, depth_range, t) float64 dask.array<shape=(2, 12, 3, 24), chunksize=(1, 1, 1, 12)>\n",
       "    so_3D_ave      (data_type, basins, depth_range, t) float64 dask.array<shape=(2, 12, 3, 24), chunksize=(1, 1, 1, 12)>"
      ]
     },
     "execution_count": 16,
     "metadata": {},
     "output_type": "execute_result"
    }
   ],
   "source": [
    "ds_out = average_3D_list(ds_xorca,list_vars,depths)\n",
    "ds_out"
   ]
  },
  {
   "cell_type": "code",
   "execution_count": null,
   "metadata": {},
   "outputs": [],
   "source": []
  }
 ],
 "metadata": {
  "kernelspec": {
   "display_name": "Python 3",
   "language": "python",
   "name": "python3"
  },
  "language_info": {
   "codemirror_mode": {
    "name": "ipython",
    "version": 3
   },
   "file_extension": ".py",
   "mimetype": "text/x-python",
   "name": "python",
   "nbconvert_exporter": "python",
   "pygments_lexer": "ipython3",
   "version": "3.6.6"
  }
 },
 "nbformat": 4,
 "nbformat_minor": 2
}
