{
 "cells": [
  {
   "cell_type": "markdown",
   "metadata": {},
   "source": [
    "# Diagnostics of a simulation with python using dask and xorca"
   ]
  },
  {
   "cell_type": "markdown",
   "metadata": {},
   "source": [
    "## Loading the libraries\n"
   ]
  },
  {
   "cell_type": "code",
   "execution_count": 2,
   "metadata": {},
   "outputs": [
    {
     "ename": "NameError",
     "evalue": "name 'coords' is not defined",
     "output_type": "error",
     "traceback": [
      "\u001b[0;31m---------------------------------------------------------------------------\u001b[0m",
      "\u001b[0;31mNameError\u001b[0m                                 Traceback (most recent call last)",
      "\u001b[0;32m<ipython-input-2-24bf25aa3b01>\u001b[0m in \u001b[0;36m<module>\u001b[0;34m()\u001b[0m\n\u001b[1;32m     11\u001b[0m \u001b[0;32mfrom\u001b[0m \u001b[0m__param__\u001b[0m \u001b[0;32mimport\u001b[0m \u001b[0;34m*\u001b[0m\u001b[0;34m\u001b[0m\u001b[0m\n\u001b[1;32m     12\u001b[0m \u001b[0;32mfrom\u001b[0m \u001b[0mtools_xorca\u001b[0m \u001b[0;32mimport\u001b[0m \u001b[0mcomplete_dataset\u001b[0m\u001b[0;34m\u001b[0m\u001b[0m\n\u001b[0;32m---> 13\u001b[0;31m \u001b[0;32mfrom\u001b[0m \u001b[0mcalculate_xorca\u001b[0m \u001b[0;32mimport\u001b[0m \u001b[0mcalculate_speed\u001b[0m\u001b[0;34m,\u001b[0m \u001b[0mcalculate_psi\u001b[0m\u001b[0;34m,\u001b[0m \u001b[0mcalculate_moc\u001b[0m\u001b[0;34m,\u001b[0m \u001b[0mcalculate_enso\u001b[0m\u001b[0;34m,\u001b[0m \u001b[0maverage_2D\u001b[0m\u001b[0;34m,\u001b[0m \u001b[0maverage_3D\u001b[0m\u001b[0;34m\u001b[0m\u001b[0m\n\u001b[0m",
      "\u001b[0;32m~/Documents/python/test_xorca/calculate_xorca.py\u001b[0m in \u001b[0;36m<module>\u001b[0;34m()\u001b[0m\n\u001b[1;32m    396\u001b[0m \u001b[0;34m\u001b[0m\u001b[0m\n\u001b[1;32m    397\u001b[0m \u001b[0;34m\u001b[0m\u001b[0m\n\u001b[0;32m--> 398\u001b[0;31m \u001b[0;32mdef\u001b[0m \u001b[0maverage_2D\u001b[0m\u001b[0;34m(\u001b[0m\u001b[0mds\u001b[0m\u001b[0;34m,\u001b[0m\u001b[0mvar\u001b[0m\u001b[0;34m,\u001b[0m\u001b[0mcoords\u001b[0m\u001b[0;34m=\u001b[0m\u001b[0mcoords\u001b[0m\u001b[0;34m)\u001b[0m\u001b[0;34m:\u001b[0m\u001b[0;34m\u001b[0m\u001b[0m\n\u001b[0m\u001b[1;32m    399\u001b[0m     \"\"\"Calculate the area weighted average of 'var' variable in ds\n\u001b[1;32m    400\u001b[0m     \u001b[0mParameters\u001b[0m\u001b[0;34m\u001b[0m\u001b[0m\n",
      "\u001b[0;31mNameError\u001b[0m: name 'coords' is not defined"
     ]
    }
   ],
   "source": [
    "%matplotlib inline\n",
    "import warnings\n",
    "warnings.filterwarnings('ignore')\n",
    "from pathlib import Path\n",
    "from glob import glob\n",
    "import matplotlib.pyplot as plt\n",
    "import xarray as xr\n",
    "import numpy as np\n",
    "from xorca.lib import load_xorca_dataset\n",
    "# Personal modification to xorca\n",
    "from __param__ import *\n",
    "from tools_xorca import *\n",
    "from calculate_xorca import calculate_speed, calculate_psi, calculate_moc, calculate_enso, average_2D, average_3D"
   ]
  },
  {
   "cell_type": "code",
   "execution_count": null,
   "metadata": {},
   "outputs": [],
   "source": [
    "import dask\n",
    "from dask.distributed import Client\n",
    "client = Client(scheduler_file='/esarchive/scratch/tarsouze/scheduler.json')\n",
    "dask.set_options(get=client.get)\n",
    "client"
   ]
  },
  {
   "cell_type": "markdown",
   "metadata": {},
   "source": [
    "## Preparing the dataset (variables + grid info)"
   ]
  },
  {
   "cell_type": "code",
   "execution_count": null,
   "metadata": {},
   "outputs": [],
   "source": [
    "#General definitions\n",
    "config = 'ORCA1L75'\n",
    "exp    = 'a13c'\n",
    "data_path     = Path(\"/esnas/exp/ecearth/a13c/original_files/19500101/fc0/outputs\")\n",
    "data_path_aux = Path(coordinates_path+config)\n",
    "\n",
    "#Data files\n",
    "data_files_u  = list(sorted(data_path.glob(exp+\"_1m_200*grid_U.nc\")))\n",
    "data_files_v  = list(sorted(data_path.glob(exp+\"_1m_200*grid_V.nc\")))\n",
    "data_files_t  = list(sorted(data_path.glob(exp+\"_1m_200*grid_T.nc\")))\n",
    "data_files_sbc  = list(sorted(data_path.glob(exp+\"_1m_200*SBC.nc\")))\n",
    "aux_files_m   = list(sorted(data_path_aux.glob(\"mesh*\")))\n",
    "aux_files_s   = list(sorted(data_path_aux.glob(\"subbasins.nc\")))\n",
    "aux_files_b   = list(sorted(data_path_aux.glob(\"basin_mask_ORCA1_ece3.2_2017.nc4\")))\n",
    "\n",
    "data_files    = data_files_u+data_files_v+data_files_t\n",
    "aux_files     = aux_files_m+aux_files_s+aux_files_b"
   ]
  },
  {
   "cell_type": "code",
   "execution_count": null,
   "metadata": {},
   "outputs": [],
   "source": [
    "#Actualy load the data\n",
    "ds_xorca = load_xorca_dataset(data_files=data_files, aux_files=aux_files,\n",
    "                              decode_cf=True, \n",
    "                              input_ds_chunks=input_chunks_ORCA1L75,\n",
    "                              target_ds_chunks=target_chunks_ORCA1L75,\n",
    "                              update_orca_variables=update_orca_variables)\n",
    "#Add area and volume of the grid to the coordinates\n",
    "ds_xorca = complete_dataset(ds_xorca)"
   ]
  },
  {
   "cell_type": "markdown",
   "metadata": {},
   "source": [
    "## Horizontal average"
   ]
  },
  {
   "cell_type": "code",
   "execution_count": null,
   "metadata": {},
   "outputs": [],
   "source": [
    "list_vars = ['pbo','zos','thetao','so','tos','sos','mlotst']\n",
    "ave,ave_yearly = average_2D_list(dsr,list_vars)"
   ]
  },
  {
   "cell_type": "code",
   "execution_count": null,
   "metadata": {},
   "outputs": [],
   "source": [
    "plot_2D_averages(ave)"
   ]
  },
  {
   "cell_type": "code",
   "execution_count": null,
   "metadata": {},
   "outputs": [],
   "source": [
    "plot_2D_averages(ave_yearly)"
   ]
  }
 ],
 "metadata": {
  "kernelspec": {
   "display_name": "Python 3",
   "language": "python",
   "name": "python3"
  },
  "language_info": {
   "codemirror_mode": {
    "name": "ipython",
    "version": 3
   },
   "file_extension": ".py",
   "mimetype": "text/x-python",
   "name": "python",
   "nbconvert_exporter": "python",
   "pygments_lexer": "ipython3",
   "version": "3.6.6"
  }
 },
 "nbformat": 4,
 "nbformat_minor": 2
}
